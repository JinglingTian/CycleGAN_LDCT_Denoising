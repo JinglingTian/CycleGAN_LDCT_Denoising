{
 "cells": [
  {
   "cell_type": "code",
   "execution_count": 21,
   "metadata": {},
   "outputs": [],
   "source": [
    "# ! pip install -r ./requirements.txt"
   ]
  },
  {
   "cell_type": "markdown",
   "metadata": {},
   "source": [
    "## 数据模型准备"
   ]
  },
  {
   "cell_type": "code",
   "execution_count": 22,
   "metadata": {},
   "outputs": [],
   "source": [
    "from torch.utils.data import DataLoader,random_split\n",
    "from ldct.data import *\n",
    "from ldct.utils import *\n",
    "from ldct.loss import *\n",
    "from ldct.net.generator import *\n",
    "from tqdm import tqdm\n",
    "import numpy as np\n",
    "import cv2 as cv"
   ]
  },
  {
   "cell_type": "code",
   "execution_count": 23,
   "metadata": {},
   "outputs": [],
   "source": [
    "fd_path = \"../../LDCT_SLL_1000_200/test/fd\"\n",
    "ld_path = \"../../LDCT_SLL_1000_200/test/qd/\"\n",
    "dataset = LDCT_Dataset(fd_path,ld_path,crop_size=(512,512))\n",
    "\n",
    "batch_size = 1\n",
    "num_workers = 1\n",
    "data_loader = DataLoader(dataset,batch_size,num_workers=num_workers)\n",
    "\n",
    "\n",
    "model_path = \"./model/temp/\"\n",
    "device = torch.device(\"cuda:0\")\n"
   ]
  },
  {
   "cell_type": "markdown",
   "metadata": {},
   "source": [
    "## 评价指标"
   ]
  },
  {
   "cell_type": "code",
   "execution_count": 24,
   "metadata": {},
   "outputs": [],
   "source": [
    "# # LDCT\n",
    "# psnr_list = []\n",
    "# ssim_list = []\n",
    "# gmsd_list = []\n",
    "# rmse_list = []\n",
    "# for img_ld,img_fd in tqdm(data_loader):\n",
    "#     psnr_list.append(psnr(img_ld*255,img_fd*255).item())\n",
    "#     ssim_list.append(ssim(img_ld*255,img_fd*255).item())\n",
    "#     gmsd_list.append(gmsd(img_ld*255,img_fd*255).item())\n",
    "#     rmse_list.append(rmse(img_ld*255,img_fd*255).item())\n",
    "# print(f\"{np.mean(psnr_list):.3f}\\t{np.mean(ssim_list):.3f}\\t{np.mean(gmsd_list):.3f}\\t{np.mean(rmse_list):.3f}\")\n"
   ]
  },
  {
   "cell_type": "code",
   "execution_count": 25,
   "metadata": {},
   "outputs": [
    {
     "name": "stderr",
     "output_type": "stream",
     "text": [
      "100%|██████████| 200/200 [00:32<00:00,  6.20it/s]"
     ]
    },
    {
     "name": "stdout",
     "output_type": "stream",
     "text": [
      "30.339\t0.973\t0.033\t7.924\n"
     ]
    },
    {
     "name": "stderr",
     "output_type": "stream",
     "text": [
      "\n"
     ]
    }
   ],
   "source": [
    "# Model Predict\n",
    "model = torch.load(os.path.join(model_path,\"best_GAB.pth\"),map_location=device)\n",
    "model = model.eval()\n",
    "\n",
    "psnr_list = []\n",
    "ssim_list = []\n",
    "gmsd_list = []\n",
    "rmse_list = []\n",
    "for img_ld,img_fd in tqdm(data_loader):\n",
    "    img_ld, img_fd = img_ld.to(device), img_fd.to(device)\n",
    "    img_ld = model(img_ld).detach()\n",
    "\n",
    "    img_ld, img_fd = img_ld.cpu(), img_fd.cpu()\n",
    "    psnr_list.append(psnr(img_ld*255,img_fd*255).item())\n",
    "    ssim_list.append(ssim(img_ld*255,img_fd*255).item())\n",
    "    gmsd_list.append(gmsd(img_ld*255,img_fd*255).item())\n",
    "    rmse_list.append(rmse(img_ld*255,img_fd*255).item())\n",
    "    \n",
    "\n",
    "print(f\"{np.mean(psnr_list):.3f}\\t{np.mean(ssim_list):.3f}\\t{np.mean(gmsd_list):.3f}\\t{np.mean(rmse_list):.3f}\")"
   ]
  },
  {
   "cell_type": "code",
   "execution_count": null,
   "metadata": {},
   "outputs": [],
   "source": []
  },
  {
   "cell_type": "markdown",
   "metadata": {},
   "source": [
    "## 可视化"
   ]
  },
  {
   "cell_type": "code",
   "execution_count": null,
   "metadata": {},
   "outputs": [],
   "source": [
    "device = torch.device(\"cpu\")\n",
    "model = torch.load(os.path.join(model_path,\"best_GAB.pth\"),map_location=device)\n",
    "model = model.eval()\n",
    "\n",
    "\n",
    "img_ld,img_fd = dataset.__getitem__(180)\n",
    "\n",
    "img_ld, img_fd = img_ld.to(device), img_fd.to(device)\n",
    "pred = model(img_ld.unsqueeze(0))\n",
    "\n",
    "pred = pred[0].detach() \n",
    "img_ld, img_fd, pred = img_ld.cpu(), img_fd.cpu(), pred.cpu()\n",
    "img_fd = img_fd[0].numpy()\n",
    "img_ld = img_ld[0].numpy()\n",
    "ld_fd = np.abs(img_ld-img_fd)\n",
    "pred = pred[0].numpy()\n",
    "pred_fd = np.abs(pred-img_fd)\n",
    "pred_ld = np.abs(pred-img_ld)\n",
    "\n",
    "x,y,h,w = 250,412,100,100\n",
    "imshow([img_fd,pred,pred_fd],(x,y,w,h))"
   ]
  }
 ],
 "metadata": {
  "kernelspec": {
   "display_name": "base",
   "language": "python",
   "name": "python3"
  },
  "language_info": {
   "codemirror_mode": {
    "name": "ipython",
    "version": 3
   },
   "file_extension": ".py",
   "mimetype": "text/x-python",
   "name": "python",
   "nbconvert_exporter": "python",
   "pygments_lexer": "ipython3",
   "version": "3.11.8"
  }
 },
 "nbformat": 4,
 "nbformat_minor": 2
}
